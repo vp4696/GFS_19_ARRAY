{
 "cells": [
  {
   "cell_type": "code",
   "execution_count": 1,
   "metadata": {},
   "outputs": [],
   "source": [
    "import configparser\n",
    "import math\n",
    "import os\n",
    "from rpyc.utils.server import ThreadedServer\n",
    "import rpyc\n",
    "'''\n",
    "This function reads the configurable values from the configuration file.\n",
    "chunksize - Indicates the chunk size of each chunk in the google file system - 2Kb here\n",
    "chunk_servers - Contains the IP and Port details of the chunk servers\n",
    "gfs.conf - Contains the configuration information that is required by the master server\n",
    "'''\n",
    "def read_config():\n",
    "    config = configparser.ConfigParser()\n",
    "    config.read_file(open('gfs.conf'))\n",
    "    Master_Server.chunksize = (int(config.get('master_server', 'chunk_size')))\n",
    "    chunk_servers = config.get('master_server','chunk_servers').split(',')\n",
    "    i=1\n",
    "    for j in chunk_servers:\n",
    "        host,port = j.split(':')\n",
    "        Master_Server.chunk_servers[i]=(host,port)\n",
    "        i+=1"
   ]
  },
  {
   "cell_type": "code",
   "execution_count": 2,
   "metadata": {},
   "outputs": [],
   "source": [
    "'''\n",
    "Master Server Class - Implements the functionality of the master server\n",
    "Functionality - Updates the metadata whenever a new file is uploaded and stores it in a dictionary format with \n",
    "                file name as key and containing the tuple (chunk-id,chunkserver containing the corresponding chunk)\n",
    "                as its value.\n",
    "write - calculates the file_size and returns the allocated chunks\n",
    "num_chunks - calculates the number of chunks the file needs to be split into\n",
    "allocChunks - updates the metadata about the files and returns allocated chunks to write.\n",
    "'''\n",
    "class Master_Server(rpyc.Service):\n",
    "    chunksize=0\n",
    "    chunk_servers = {}\n",
    "    file_map = {}\n",
    "    size = 0\n",
    "    num_chunk_servers = 4\n",
    "    file_name = ''\n",
    "    \n",
    "    def write(self):\n",
    "        if self.file_name in self.file_map:\n",
    "            pass\n",
    "        self.file_map[self.file_name] = []\n",
    "        b = os.path.getsize(self.file_name)\n",
    "        self.size = b\n",
    "        #num_chunks =self.numChunks(self.size)\n",
    "        chunks = self.allocChunks()\n",
    "        return chunks\n",
    "    \n",
    "    def numChunks(self,size):\n",
    "        return int(math.ceil(size/self.chunksize))\n",
    "\n",
    "    def allocChunks(self):\n",
    "        i=0\n",
    "        chunks=[]\n",
    "        num_chunks = self.numChunks(self.size)\n",
    "        for j in range(0,num_chunks):\n",
    "            self.file_map[self.file_name].append((j,i))\n",
    "            chunks.append((j,i))\n",
    "            i=(i+1)% self.num_chunk_servers\n",
    "        print(self.file_map)\n",
    "        return chunks"
   ]
  },
  {
   "cell_type": "code",
   "execution_count": 3,
   "metadata": {},
   "outputs": [],
   "source": [
    "'''\n",
    "Specifies the file that needs to be uploaded\n",
    "'''\n",
    "def  f_name(fn):\n",
    "    Master_Server.file_name = fn\n",
    "    name = Master_Server()\n",
    "    name.write()"
   ]
  },
  {
   "cell_type": "code",
   "execution_count": 4,
   "metadata": {},
   "outputs": [
    {
     "name": "stdout",
     "output_type": "stream",
     "text": [
      "{'a.txt': [(0, 0), (1, 1), (2, 2), (3, 3), (4, 0), (5, 1), (6, 2)]}\n",
      "{'a.txt': [(0, 0), (1, 1), (2, 2), (3, 3), (4, 0), (5, 1), (6, 2)], 'b.txt': [(0, 0), (1, 1), (2, 2)]}\n",
      "Master Server running\n"
     ]
    },
    {
     "name": "stderr",
     "output_type": "stream",
     "text": [
      "keyboard interrupt!\n"
     ]
    },
    {
     "name": "stdout",
     "output_type": "stream",
     "text": [
      "\n"
     ]
    }
   ],
   "source": [
    "'''\n",
    "Main function-Launches the threaded master server\n",
    "'''\n",
    "if __name__ == \"__main__\":\n",
    "    read_config()\n",
    "    f_name('a.txt')\n",
    "    f_name('b.txt')\n",
    "    print(\"Master Server running\")\n",
    "    t = ThreadedServer(Master_Server, port=2131)\n",
    "    t.start()"
   ]
  }
 ],
 "metadata": {
  "kernelspec": {
   "display_name": "Python 3",
   "language": "python",
   "name": "python3"
  },
  "language_info": {
   "codemirror_mode": {
    "name": "ipython",
    "version": 3
   },
   "file_extension": ".py",
   "mimetype": "text/x-python",
   "name": "python",
   "nbconvert_exporter": "python",
   "pygments_lexer": "ipython3",
   "version": "3.6.8"
  }
 },
 "nbformat": 4,
 "nbformat_minor": 2
}
